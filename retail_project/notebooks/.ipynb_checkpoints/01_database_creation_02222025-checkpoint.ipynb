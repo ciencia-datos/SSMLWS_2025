{
 "cells": [
  {
   "cell_type": "code",
   "execution_count": 1,
   "id": "dd0235dc-7746-4fc8-943f-702d009811be",
   "metadata": {},
   "outputs": [],
   "source": [
    "import polars as pl\n",
    "import duckdb"
   ]
  },
  {
   "cell_type": "code",
   "execution_count": 2,
   "id": "bca1df7d-2480-47fd-88c6-c1e9b31c9b5f",
   "metadata": {},
   "outputs": [],
   "source": [
    "df_detail_raw = pl.read_csv(r'/Users/malleshamyamulla/Desktop/SSMBB/DSLLM/SSMLWS_2025/retail_project/data/real_datasets/retail_app_data.csv')"
   ]
  },
  {
   "cell_type": "code",
   "execution_count": 7,
   "id": "a1172201-caa8-408d-a4c2-693e31a9504e",
   "metadata": {},
   "outputs": [],
   "source": [
    "df_LungCap_raw = pl.read_csv(r'/Users/malleshamyamulla/Desktop/SSMBB/DSLLM/SSMLWS_2025/retail_project/data/real_datasets/LungCap_custom.csv')"
   ]
  },
  {
   "cell_type": "code",
   "execution_count": 3,
   "id": "de646557-88b4-41be-bf4f-ee040f6e4848",
   "metadata": {},
   "outputs": [
    {
     "data": {
      "text/plain": [
       "['user_id',\n",
       " 'first_visit_date',\n",
       " 'age',\n",
       " 'platform',\n",
       " 'screen_list',\n",
       " 'session_count',\n",
       " 'total_screens_viewed',\n",
       " 'used_search_feature',\n",
       " 'wrote_review',\n",
       " 'added_to_wishlist',\n",
       " 'made_purchase',\n",
       " 'purchase_date',\n",
       " 'user_segment',\n",
       " 'region',\n",
       " 'acquisition_channel',\n",
       " 'app_version']"
      ]
     },
     "execution_count": 3,
     "metadata": {},
     "output_type": "execute_result"
    }
   ],
   "source": [
    "df_detail_raw.columns"
   ]
  },
  {
   "cell_type": "code",
   "execution_count": 4,
   "id": "9eb91220-19bc-4b98-8c42-5d0254a7d7f2",
   "metadata": {},
   "outputs": [],
   "source": [
    "_path = r'/Users/malleshamyamulla/Desktop/SSMBB/DSLLM/SSMLWS_2025/retail_project/data/ml_workshop_2025.db'"
   ]
  },
  {
   "cell_type": "code",
   "execution_count": 5,
   "id": "6dc03bb2-1d50-49c9-9dff-b7d862044655",
   "metadata": {},
   "outputs": [],
   "source": [
    "db_con = duckdb.connect(_path)"
   ]
  },
  {
   "cell_type": "code",
   "execution_count": 6,
   "id": "f00acdc1-31eb-4001-b9de-5814ba6210ce",
   "metadata": {},
   "outputs": [
    {
     "data": {
      "text/plain": [
       "<duckdb.duckdb.DuckDBPyConnection at 0x104b5e870>"
      ]
     },
     "execution_count": 6,
     "metadata": {},
     "output_type": "execute_result"
    }
   ],
   "source": [
    "db_con.execute('CREATE TABLE A_TBL_Retail_App AS SELECT *FROM df_detail_raw')"
   ]
  },
  {
   "cell_type": "code",
   "execution_count": 8,
   "id": "405bca6f-2096-464d-8103-2910e9799f9a",
   "metadata": {},
   "outputs": [
    {
     "data": {
      "text/plain": [
       "<duckdb.duckdb.DuckDBPyConnection at 0x104b5e870>"
      ]
     },
     "execution_count": 8,
     "metadata": {},
     "output_type": "execute_result"
    }
   ],
   "source": [
    "db_con.execute('CREATE TABLE B_TBL_LungCap AS SELECT *FROM df_LungCap_raw')"
   ]
  },
  {
   "cell_type": "code",
   "execution_count": 9,
   "id": "acec9501-431f-4806-8991-aad6f7846824",
   "metadata": {},
   "outputs": [],
   "source": [
    "db_con.close()"
   ]
  },
  {
   "cell_type": "code",
   "execution_count": null,
   "id": "296731bd-4b60-46b9-b9ac-f1fc1f0a6f01",
   "metadata": {},
   "outputs": [],
   "source": []
  }
 ],
 "metadata": {
  "kernelspec": {
   "display_name": "Python 3 (ipykernel)",
   "language": "python",
   "name": "python3"
  },
  "language_info": {
   "codemirror_mode": {
    "name": "ipython",
    "version": 3
   },
   "file_extension": ".py",
   "mimetype": "text/x-python",
   "name": "python",
   "nbconvert_exporter": "python",
   "pygments_lexer": "ipython3",
   "version": "3.11.0"
  }
 },
 "nbformat": 4,
 "nbformat_minor": 5
}
