{
 "cells": [
  {
   "cell_type": "code",
   "execution_count": 9,
   "id": "4a36fc39-877b-4831-901c-fdbb38858c2b",
   "metadata": {},
   "outputs": [],
   "source": [
    "import plotnine as p9\n",
    "import polars as pl\n",
    "import duckdb\n",
    "import re"
   ]
  },
  {
   "cell_type": "code",
   "execution_count": 10,
   "id": "d09d6fd9-019d-4994-8969-4c9f7d087ad5",
   "metadata": {},
   "outputs": [],
   "source": [
    "def cols_tidy(df_cols):\n",
    "    df_cols_tidy = []\n",
    "    for item in df_cols:\n",
    "        x = re.sub(r\" +\", \" \", item)\n",
    "        x1 = re.sub(r\"\\,|\\)|\\(|\\.|\\-|\\'\", \"\", x)\n",
    "        x2 = re.sub(r\"\\/\", \"_or_\", x1)\n",
    "        x3 = re.sub(r\"\\&\", \"_and_\", x2)\n",
    "        x4 = re.sub(r\"\\s(?=\\_{1,})|(\\_(?=\\s{1,}))|\\,\", \"\", x3)\n",
    "        x5 = re.sub(r\" {2,}\", \" \", x4)\n",
    "        x6 = re.sub(r\"\\s\", \"_\", x5)\n",
    "        x7 = re.sub(r\"\\:\", \"\", x6)\n",
    "        df_cols_tidy.append(x7.lower())\n",
    "    return df_cols_tidy"
   ]
  },
  {
   "cell_type": "code",
   "execution_count": 3,
   "id": "1fe2d4db-0eb2-4257-862c-ffb22f831d09",
   "metadata": {},
   "outputs": [],
   "source": [
    "_path = r'/Users/malleshamyamulla/Desktop/SSMBB/DSLLM/SSMLWS_2025/retail_project/data/ml_workshop_2025.db'"
   ]
  },
  {
   "cell_type": "code",
   "execution_count": 5,
   "id": "8301e682-47a9-46af-8d53-1c1df41f132a",
   "metadata": {},
   "outputs": [],
   "source": [
    "db_con = duckdb.connect(_path)"
   ]
  },
  {
   "cell_type": "code",
   "execution_count": 7,
   "id": "a1c89a8e-bf25-4bb6-84f9-d39ff5fbd643",
   "metadata": {},
   "outputs": [],
   "source": [
    "df_lung = db_con.execute('SELECT *FROM B_TBL_LungCap').pl()"
   ]
  },
  {
   "cell_type": "code",
   "execution_count": 8,
   "id": "f773965b-b0dd-424e-8988-8b473178c4c7",
   "metadata": {},
   "outputs": [
    {
     "data": {
      "text/html": [
       "<div><style>\n",
       ".dataframe > thead > tr,\n",
       ".dataframe > tbody > tr {\n",
       "  text-align: right;\n",
       "  white-space: pre-wrap;\n",
       "}\n",
       "</style>\n",
       "<small>shape: (5, 6)</small><table border=\"1\" class=\"dataframe\"><thead><tr><th>LungCap(cc)</th><th>Age( years)</th><th>Height(inches)</th><th>Smoke</th><th>Gender</th><th>Caesarean</th></tr><tr><td>f64</td><td>str</td><td>f64</td><td>str</td><td>str</td><td>str</td></tr></thead><tbody><tr><td>null</td><td>&quot;6&quot;</td><td>62.1</td><td>&quot;no&quot;</td><td>&quot;male&quot;</td><td>&quot;no&quot;</td></tr><tr><td>10.125</td><td>&quot;&nbsp;&nbsp;&nbsp;&nbsp;&nbsp;&quot;</td><td>74.7</td><td>&quot;yes&quot;</td><td>&quot;female&quot;</td><td>&quot;no&quot;</td></tr><tr><td>9.55</td><td>&quot;16&quot;</td><td>69.7</td><td>&quot;no&nbsp;&nbsp;&quot;</td><td>&quot;female&quot;</td><td>&quot;yes&quot;</td></tr><tr><td>11.125</td><td>&quot;14&quot;</td><td>71.0</td><td>&quot;&nbsp;&nbsp;&nbsp;no&quot;</td><td>&quot;male&nbsp;&nbsp;&quot;</td><td>&quot;no&quot;</td></tr><tr><td>4.8</td><td>&quot;5&quot;</td><td>56.9</td><td>&quot;no&quot;</td><td>&quot;&nbsp;&nbsp;&nbsp;&nbsp;&nbsp;&quot;</td><td>null</td></tr></tbody></table></div>"
      ],
      "text/plain": [
       "shape: (5, 6)\n",
       "┌─────────────┬─────────────┬────────────────┬───────┬────────┬───────────┐\n",
       "│ LungCap(cc) ┆ Age( years) ┆ Height(inches) ┆ Smoke ┆ Gender ┆ Caesarean │\n",
       "│ ---         ┆ ---         ┆ ---            ┆ ---   ┆ ---    ┆ ---       │\n",
       "│ f64         ┆ str         ┆ f64            ┆ str   ┆ str    ┆ str       │\n",
       "╞═════════════╪═════════════╪════════════════╪═══════╪════════╪═══════════╡\n",
       "│ null        ┆ 6           ┆ 62.1           ┆ no    ┆ male   ┆ no        │\n",
       "│ 10.125      ┆             ┆ 74.7           ┆ yes   ┆ female ┆ no        │\n",
       "│ 9.55        ┆ 16          ┆ 69.7           ┆ no    ┆ female ┆ yes       │\n",
       "│ 11.125      ┆ 14          ┆ 71.0           ┆    no ┆ male   ┆ no        │\n",
       "│ 4.8         ┆ 5           ┆ 56.9           ┆ no    ┆        ┆ null      │\n",
       "└─────────────┴─────────────┴────────────────┴───────┴────────┴───────────┘"
      ]
     },
     "execution_count": 8,
     "metadata": {},
     "output_type": "execute_result"
    }
   ],
   "source": [
    "df_lung.head()"
   ]
  },
  {
   "cell_type": "code",
   "execution_count": 12,
   "id": "ef77bcc5-7898-4ee2-8108-83a9cc2e6c84",
   "metadata": {},
   "outputs": [],
   "source": [
    "los_tidy_cols = cols_tidy(df_lung.columns)"
   ]
  },
  {
   "cell_type": "code",
   "execution_count": 13,
   "id": "78b657c2-d9f2-4666-856d-3a38412ff1fc",
   "metadata": {},
   "outputs": [],
   "source": [
    "df_lung.columns = los_tidy_cols"
   ]
  },
  {
   "cell_type": "code",
   "execution_count": 16,
   "id": "8957b531-94b0-405b-ad99-d3101f16b0e0",
   "metadata": {},
   "outputs": [
    {
     "data": {
      "text/plain": [
       "(5, 6)"
      ]
     },
     "execution_count": 16,
     "metadata": {},
     "output_type": "execute_result"
    }
   ],
   "source": [
    "df_lung.shape"
   ]
  },
  {
   "cell_type": "code",
   "execution_count": 14,
   "id": "88599379-00bc-43b6-8234-4c2681c7eba8",
   "metadata": {},
   "outputs": [
    {
     "data": {
      "text/html": [
       "<div><style>\n",
       ".dataframe > thead > tr,\n",
       ".dataframe > tbody > tr {\n",
       "  text-align: right;\n",
       "  white-space: pre-wrap;\n",
       "}\n",
       "</style>\n",
       "<small>shape: (5, 6)</small><table border=\"1\" class=\"dataframe\"><thead><tr><th>lungcapcc</th><th>age_years</th><th>heightinches</th><th>smoke</th><th>gender</th><th>caesarean</th></tr><tr><td>f64</td><td>str</td><td>f64</td><td>str</td><td>str</td><td>str</td></tr></thead><tbody><tr><td>null</td><td>&quot;6&quot;</td><td>62.1</td><td>&quot;no&quot;</td><td>&quot;male&quot;</td><td>&quot;no&quot;</td></tr><tr><td>10.125</td><td>&quot;&nbsp;&nbsp;&nbsp;&nbsp;&nbsp;&quot;</td><td>74.7</td><td>&quot;yes&quot;</td><td>&quot;female&quot;</td><td>&quot;no&quot;</td></tr><tr><td>9.55</td><td>&quot;16&quot;</td><td>69.7</td><td>&quot;no&nbsp;&nbsp;&quot;</td><td>&quot;female&quot;</td><td>&quot;yes&quot;</td></tr><tr><td>11.125</td><td>&quot;14&quot;</td><td>71.0</td><td>&quot;&nbsp;&nbsp;&nbsp;no&quot;</td><td>&quot;male&nbsp;&nbsp;&quot;</td><td>&quot;no&quot;</td></tr><tr><td>4.8</td><td>&quot;5&quot;</td><td>56.9</td><td>&quot;no&quot;</td><td>&quot;&nbsp;&nbsp;&nbsp;&nbsp;&nbsp;&quot;</td><td>null</td></tr></tbody></table></div>"
      ],
      "text/plain": [
       "shape: (5, 6)\n",
       "┌───────────┬───────────┬──────────────┬───────┬────────┬───────────┐\n",
       "│ lungcapcc ┆ age_years ┆ heightinches ┆ smoke ┆ gender ┆ caesarean │\n",
       "│ ---       ┆ ---       ┆ ---          ┆ ---   ┆ ---    ┆ ---       │\n",
       "│ f64       ┆ str       ┆ f64          ┆ str   ┆ str    ┆ str       │\n",
       "╞═══════════╪═══════════╪══════════════╪═══════╪════════╪═══════════╡\n",
       "│ null      ┆ 6         ┆ 62.1         ┆ no    ┆ male   ┆ no        │\n",
       "│ 10.125    ┆           ┆ 74.7         ┆ yes   ┆ female ┆ no        │\n",
       "│ 9.55      ┆ 16        ┆ 69.7         ┆ no    ┆ female ┆ yes       │\n",
       "│ 11.125    ┆ 14        ┆ 71.0         ┆    no ┆ male   ┆ no        │\n",
       "│ 4.8       ┆ 5         ┆ 56.9         ┆ no    ┆        ┆ null      │\n",
       "└───────────┴───────────┴──────────────┴───────┴────────┴───────────┘"
      ]
     },
     "execution_count": 14,
     "metadata": {},
     "output_type": "execute_result"
    }
   ],
   "source": [
    "df_lung.head()"
   ]
  },
  {
   "cell_type": "code",
   "execution_count": 17,
   "id": "22043311-7ce7-4cf8-bfcd-45b9795574f0",
   "metadata": {},
   "outputs": [
    {
     "data": {
      "text/html": [
       "<div><style>\n",
       ".dataframe > thead > tr,\n",
       ".dataframe > tbody > tr {\n",
       "  text-align: right;\n",
       "  white-space: pre-wrap;\n",
       "}\n",
       "</style>\n",
       "<small>shape: (2, 6)</small><table border=\"1\" class=\"dataframe\"><thead><tr><th>lungcapcc</th><th>age_years</th><th>heightinches</th><th>smoke</th><th>gender</th><th>caesarean</th></tr><tr><td>f64</td><td>str</td><td>f64</td><td>str</td><td>str</td><td>str</td></tr></thead><tbody><tr><td>11.125</td><td>&quot;14&quot;</td><td>71.0</td><td>&quot;&nbsp;&nbsp;&nbsp;no&quot;</td><td>&quot;male&nbsp;&nbsp;&quot;</td><td>&quot;no&quot;</td></tr><tr><td>9.55</td><td>&quot;16&quot;</td><td>69.7</td><td>&quot;no&nbsp;&nbsp;&quot;</td><td>&quot;female&quot;</td><td>&quot;yes&quot;</td></tr></tbody></table></div>"
      ],
      "text/plain": [
       "shape: (2, 6)\n",
       "┌───────────┬───────────┬──────────────┬───────┬────────┬───────────┐\n",
       "│ lungcapcc ┆ age_years ┆ heightinches ┆ smoke ┆ gender ┆ caesarean │\n",
       "│ ---       ┆ ---       ┆ ---          ┆ ---   ┆ ---    ┆ ---       │\n",
       "│ f64       ┆ str       ┆ f64          ┆ str   ┆ str    ┆ str       │\n",
       "╞═══════════╪═══════════╪══════════════╪═══════╪════════╪═══════════╡\n",
       "│ 11.125    ┆ 14        ┆ 71.0         ┆    no ┆ male   ┆ no        │\n",
       "│ 9.55      ┆ 16        ┆ 69.7         ┆ no    ┆ female ┆ yes       │\n",
       "└───────────┴───────────┴──────────────┴───────┴────────┴───────────┘"
      ]
     },
     "execution_count": 17,
     "metadata": {},
     "output_type": "execute_result"
    }
   ],
   "source": [
    "df_lung.sample(2)"
   ]
  },
  {
   "cell_type": "markdown",
   "id": "8bfb2bb7-370d-4771-a4d4-44b2fe37b739",
   "metadata": {},
   "source": []
  }
 ],
 "metadata": {
  "kernelspec": {
   "display_name": "Python 3 (ipykernel)",
   "language": "python",
   "name": "python3"
  },
  "language_info": {
   "codemirror_mode": {
    "name": "ipython",
    "version": 3
   },
   "file_extension": ".py",
   "mimetype": "text/x-python",
   "name": "python",
   "nbconvert_exporter": "python",
   "pygments_lexer": "ipython3",
   "version": "3.11.0"
  }
 },
 "nbformat": 4,
 "nbformat_minor": 5
}
