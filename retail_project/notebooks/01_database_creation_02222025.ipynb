{
 "cells": [
  {
   "cell_type": "code",
   "execution_count": 1,
   "id": "dd0235dc-7746-4fc8-943f-702d009811be",
   "metadata": {},
   "outputs": [],
   "source": [
    "import polars as pl\n",
    "import duckdb"
   ]
  },
  {
   "cell_type": "code",
   "execution_count": 2,
   "id": "bca1df7d-2480-47fd-88c6-c1e9b31c9b5f",
   "metadata": {},
   "outputs": [],
   "source": [
    "df_detail_raw = pl.read_csv(r'/Users/malleshamyamulla/Desktop/SSMBB/DSLLM/SSMLWS_2025/retail_project/data/real_datasets/retail_app_data.csv')"
   ]
  },
  {
   "cell_type": "code",
   "execution_count": 7,
   "id": "a1172201-caa8-408d-a4c2-693e31a9504e",
   "metadata": {},
   "outputs": [],
   "source": [
    "df_LungCap_raw = pl.read_csv(r'/Users/malleshamyamulla/Desktop/SSMBB/DSLLM/SSMLWS_2025/retail_project/data/real_datasets/LungCap_custom.csv')"
   ]
  },
  {
   "cell_type": "code",
   "execution_count": 3,
   "id": "de646557-88b4-41be-bf4f-ee040f6e4848",
   "metadata": {},
   "outputs": [
    {
     "data": {
      "text/plain": [
       "['user_id',\n",
       " 'first_visit_date',\n",
       " 'age',\n",
       " 'platform',\n",
       " 'screen_list',\n",
       " 'session_count',\n",
       " 'total_screens_viewed',\n",
       " 'used_search_feature',\n",
       " 'wrote_review',\n",
       " 'added_to_wishlist',\n",
       " 'made_purchase',\n",
       " 'purchase_date',\n",
       " 'user_segment',\n",
       " 'region',\n",
       " 'acquisition_channel',\n",
       " 'app_version']"
      ]
     },
     "execution_count": 3,
     "metadata": {},
     "output_type": "execute_result"
    }
   ],
   "source": [
    "df_detail_raw.columns"
   ]
  },
  {
   "cell_type": "code",
   "execution_count": 10,
   "id": "9567c938-0aca-4cb3-8ff4-ce299b271478",
   "metadata": {},
   "outputs": [
    {
     "data": {
      "text/html": [
       "<div><style>\n",
       ".dataframe > thead > tr,\n",
       ".dataframe > tbody > tr {\n",
       "  text-align: right;\n",
       "  white-space: pre-wrap;\n",
       "}\n",
       "</style>\n",
       "<small>shape: (5, 6)</small><table border=\"1\" class=\"dataframe\"><thead><tr><th>LungCap(cc)</th><th>Age( years)</th><th>Height(inches)</th><th>Smoke</th><th>Gender</th><th>Caesarean</th></tr><tr><td>f64</td><td>str</td><td>f64</td><td>str</td><td>str</td><td>str</td></tr></thead><tbody><tr><td>null</td><td>&quot;6&quot;</td><td>62.1</td><td>&quot;no&quot;</td><td>&quot;male&quot;</td><td>&quot;no&quot;</td></tr><tr><td>10.125</td><td>&quot;&nbsp;&nbsp;&nbsp;&nbsp;&nbsp;&quot;</td><td>74.7</td><td>&quot;yes&quot;</td><td>&quot;female&quot;</td><td>&quot;no&quot;</td></tr><tr><td>9.55</td><td>&quot;16&quot;</td><td>69.7</td><td>&quot;no&nbsp;&nbsp;&quot;</td><td>&quot;female&quot;</td><td>&quot;yes&quot;</td></tr><tr><td>11.125</td><td>&quot;14&quot;</td><td>71.0</td><td>&quot;&nbsp;&nbsp;&nbsp;no&quot;</td><td>&quot;male&nbsp;&nbsp;&quot;</td><td>&quot;no&quot;</td></tr><tr><td>4.8</td><td>&quot;5&quot;</td><td>56.9</td><td>&quot;no&quot;</td><td>&quot;&nbsp;&nbsp;&nbsp;&nbsp;&nbsp;&quot;</td><td>null</td></tr></tbody></table></div>"
      ],
      "text/plain": [
       "shape: (5, 6)\n",
       "┌─────────────┬─────────────┬────────────────┬───────┬────────┬───────────┐\n",
       "│ LungCap(cc) ┆ Age( years) ┆ Height(inches) ┆ Smoke ┆ Gender ┆ Caesarean │\n",
       "│ ---         ┆ ---         ┆ ---            ┆ ---   ┆ ---    ┆ ---       │\n",
       "│ f64         ┆ str         ┆ f64            ┆ str   ┆ str    ┆ str       │\n",
       "╞═════════════╪═════════════╪════════════════╪═══════╪════════╪═══════════╡\n",
       "│ null        ┆ 6           ┆ 62.1           ┆ no    ┆ male   ┆ no        │\n",
       "│ 10.125      ┆             ┆ 74.7           ┆ yes   ┆ female ┆ no        │\n",
       "│ 9.55        ┆ 16          ┆ 69.7           ┆ no    ┆ female ┆ yes       │\n",
       "│ 11.125      ┆ 14          ┆ 71.0           ┆    no ┆ male   ┆ no        │\n",
       "│ 4.8         ┆ 5           ┆ 56.9           ┆ no    ┆        ┆ null      │\n",
       "└─────────────┴─────────────┴────────────────┴───────┴────────┴───────────┘"
      ]
     },
     "execution_count": 10,
     "metadata": {},
     "output_type": "execute_result"
    }
   ],
   "source": [
    "df_LungCap_raw"
   ]
  },
  {
   "cell_type": "code",
   "execution_count": 4,
   "id": "9eb91220-19bc-4b98-8c42-5d0254a7d7f2",
   "metadata": {},
   "outputs": [],
   "source": [
    "_path = r'/Users/malleshamyamulla/Desktop/SSMBB/DSLLM/SSMLWS_2025/retail_project/data/ml_workshop_2025.db'"
   ]
  },
  {
   "cell_type": "code",
   "execution_count": 5,
   "id": "6dc03bb2-1d50-49c9-9dff-b7d862044655",
   "metadata": {},
   "outputs": [],
   "source": [
    "db_con = duckdb.connect(_path)"
   ]
  },
  {
   "cell_type": "code",
   "execution_count": 6,
   "id": "f00acdc1-31eb-4001-b9de-5814ba6210ce",
   "metadata": {},
   "outputs": [
    {
     "data": {
      "text/plain": [
       "<duckdb.duckdb.DuckDBPyConnection at 0x104b5e870>"
      ]
     },
     "execution_count": 6,
     "metadata": {},
     "output_type": "execute_result"
    }
   ],
   "source": [
    "db_con.execute('CREATE TABLE A_TBL_Retail_App AS SELECT *FROM df_detail_raw')"
   ]
  },
  {
   "cell_type": "code",
   "execution_count": 8,
   "id": "405bca6f-2096-464d-8103-2910e9799f9a",
   "metadata": {},
   "outputs": [
    {
     "data": {
      "text/plain": [
       "<duckdb.duckdb.DuckDBPyConnection at 0x104b5e870>"
      ]
     },
     "execution_count": 8,
     "metadata": {},
     "output_type": "execute_result"
    }
   ],
   "source": [
    "db_con.execute('CREATE TABLE B_TBL_LungCap AS SELECT *FROM df_LungCap_raw')"
   ]
  },
  {
   "cell_type": "code",
   "execution_count": 9,
   "id": "acec9501-431f-4806-8991-aad6f7846824",
   "metadata": {},
   "outputs": [],
   "source": [
    "db_con.close()"
   ]
  },
  {
   "cell_type": "code",
   "execution_count": null,
   "id": "296731bd-4b60-46b9-b9ac-f1fc1f0a6f01",
   "metadata": {},
   "outputs": [],
   "source": []
  }
 ],
 "metadata": {
  "kernelspec": {
   "display_name": "Python 3 (ipykernel)",
   "language": "python",
   "name": "python3"
  },
  "language_info": {
   "codemirror_mode": {
    "name": "ipython",
    "version": 3
   },
   "file_extension": ".py",
   "mimetype": "text/x-python",
   "name": "python",
   "nbconvert_exporter": "python",
   "pygments_lexer": "ipython3",
   "version": "3.11.0"
  }
 },
 "nbformat": 4,
 "nbformat_minor": 5
}
